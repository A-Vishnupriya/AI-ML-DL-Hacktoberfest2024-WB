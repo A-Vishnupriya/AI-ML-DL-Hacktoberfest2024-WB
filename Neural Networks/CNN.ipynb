{
 "cells": [
  {
   "cell_type": "code",
   "execution_count": null,
   "metadata": {},
   "outputs": [
    {
     "ename": "",
     "evalue": "",
     "output_type": "error",
     "traceback": [
      "\u001b[1;31mRunning cells with 'venv (Python 3.11.1)' requires the ipykernel package.\n",
      "\u001b[1;31mRun the following command to install 'ipykernel' into the Python environment. \n",
      "\u001b[1;31mCommand: 'c:/Users/rohan/OneDrive/Desktop/OneDrive/Documents/GitHub/AI-ML-DL-Hacktoberfest2024-WB/venv/Scripts/python.exe -m pip install ipykernel -U --force-reinstall'"
     ]
    }
   ],
   "source": [
    "import torch\n",
    "import torch.nn\n",
    "import torch.optim as optim\n",
    "import torch.nn.functional as F\n",
    "from torchvision import datasets,transforms\n",
    "from torch.utils.data import DataLoader,Dataset"
   ]
  },
  {
   "cell_type": "code",
   "execution_count": null,
   "metadata": {},
   "outputs": [],
   "source": [
    "class LeNet(nn.Module):\n",
    "    \"\"\"\n",
    "    LeNet Model Definition:\n",
    "    This model consists of two convolutional layers followed by two fully connected layers.\n",
    "    It is designed for image classification tasks like MNIST.\n",
    "    \"\"\"\n",
    "    def __init__(self):\n",
    "        super(LeNet, self).__init__()\n",
    "        # First convolution layer: 1 input channel (grayscale image), 6 output channels, 5x5 kernel\n",
    "        self.conv1 = nn.Conv2d(1, 6, kernel_size=5)\n",
    "        \n",
    "        # Second convolution layer: 6 input channels, 16 output channels, 5x5 kernel\n",
    "        self.conv2 = nn.Conv2d(6, 16, kernel_size=5)\n",
    "        \n",
    "        # Fully connected layer 1: input size 16*4*4 (flattened), output size 120\n",
    "        self.fc1 = nn.Linear(16*4*4, 120)\n",
    "        \n",
    "        # Fully connected layer 2: input size 120, output size 84\n",
    "        self.fc2 = nn.Linear(120, 84)\n",
    "        \n",
    "        # Output layer: input size 84, output size 10 (for 10 digit classes)\n",
    "        self.fc3 = nn.Linear(84, 10)\n",
    "\n",
    "    def forward(self, x):\n",
    "        \"\"\"\n",
    "        Forward pass:\n",
    "        Applies a sequence of convolutional, activation, pooling, and fully connected layers.\n",
    "        \"\"\"\n",
    "        # Apply first convolution, then ReLU activation, followed by 2x2 Max Pooling\n",
    "        x = F.relu(self.conv1(x))\n",
    "        x = F.max_pool2d(x, 2)\n",
    "        \n",
    "        # Apply second convolution, then ReLU activation, followed by 2x2 Max Pooling\n",
    "        x = F.relu(self.conv2(x))\n",
    "        x = F.max_pool2d(x, 2)\n",
    "        \n",
    "        # Flatten the tensor into a 1D vector for the fully connected layers\n",
    "        x = x.view(-1, 16*4*4)\n",
    "        \n",
    "        # Apply first fully connected layer and ReLU activation\n",
    "        x = F.relu(self.fc1(x))\n",
    "        \n",
    "        # Apply second fully connected layer and ReLU activation\n",
    "        x = F.relu(self.fc2(x))\n",
    "        \n",
    "        # Output layer (no activation, raw logits)\n",
    "        x = self.fc3(x)\n",
    "        \n",
    "        return x\n"
   ]
  },
  {
   "cell_type": "code",
   "execution_count": null,
   "metadata": {},
   "outputs": [],
   "source": [
    "# Define transformations: Convert to tensor and normalize to mean 0.1307 and std 0.3081 (standard for MNIST)\n",
    "transform = transforms.Compose([\n",
    "    transforms.ToTensor(),\n",
    "    transforms.Normalize((0.1307,), (0.3081,))\n",
    "])\n"
   ]
  },
  {
   "cell_type": "code",
   "execution_count": null,
   "metadata": {},
   "outputs": [],
   "source": [
    "# Load training and test datasets\n",
    "train_dataset = datasets.MNIST(root='./data', train=True, transform=transform, download=True)\n",
    "test_dataset = datasets.MNIST(root='./data', train=False, transform=transform, download=True)\n"
   ]
  },
  {
   "cell_type": "code",
   "execution_count": null,
   "metadata": {},
   "outputs": [],
   "source": [
    "train_loader = DataLoader(dataset=train_dataset, batch_size=64, shuffle=True)\n",
    "test_loader = DataLoader(dataset=test_dataset, batch_size=1000, shuffle=False)"
   ]
  },
  {
   "cell_type": "code",
   "execution_count": null,
   "metadata": {},
   "outputs": [],
   "source": [
    "device = torch.device('cuda' if torch.cuda.is_available() else 'cpu')\n",
    "\n",
    "# Initialize the model and move it to the appropriate device (GPU/CPU)\n",
    "model = LeNet().to(device)\n",
    "\n",
    "# Define loss function (CrossEntropyLoss for classification)\n",
    "criterion = nn.CrossEntropyLoss()\n",
    "\n",
    "# Define optimizer (Adam optimizer)\n",
    "optimizer = optim.Adam(model.parameters(), lr=0.001)"
   ]
  },
  {
   "cell_type": "code",
   "execution_count": null,
   "metadata": {},
   "outputs": [],
   "source": [
    "def train(model, device, train_loader, optimizer, epoch):\n",
    "    \"\"\"\n",
    "    Function to train the model for one epoch.\n",
    "    - model: The CNN model\n",
    "    - device: GPU or CPU\n",
    "    - train_loader: DataLoader for the training dataset\n",
    "    - optimizer: Optimizer (Adam)\n",
    "    - epoch: Current epoch number\n",
    "    \"\"\"\n",
    "    model.train()  # Set the model to training mode\n",
    "    for batch_idx, (data, target) in enumerate(train_loader):\n",
    "        # Move data and target labels to the appropriate device\n",
    "        data, target = data.to(device), target.to(device)\n",
    "        \n",
    "        # Reset gradients to zero for each batch\n",
    "        optimizer.zero_grad()\n",
    "        \n",
    "        # Forward pass: compute the model output\n",
    "        output = model(data)\n",
    "        \n",
    "        # Compute the loss between the output and target\n",
    "        loss = criterion(output, target)\n",
    "        \n",
    "        # Backward pass: compute gradients\n",
    "        loss.backward()\n",
    "        \n",
    "        # Update the model weights using the optimizer\n",
    "        optimizer.step()\n",
    "        \n",
    "        # Print loss for every 100 batches\n",
    "        if batch_idx % 100 == 0:\n",
    "            print(f'Train Epoch: {epoch} [{batch_idx*len(data)}/{len(train_loader.dataset)}] Loss: {loss.item():.6f}')\n",
    "\n"
   ]
  },
  {
   "cell_type": "code",
   "execution_count": null,
   "metadata": {},
   "outputs": [],
   "source": [
    "def test(model, device, test_loader):\n",
    "    \"\"\"\n",
    "    Function to test the model's performance on the test dataset.\n",
    "    - model: The CNN model\n",
    "    - device: GPU or CPU\n",
    "    - test_loader: DataLoader for the test dataset\n",
    "    \"\"\"\n",
    "    model.eval()  # Set the model to evaluation mode\n",
    "    test_loss = 0\n",
    "    correct = 0\n",
    "    with torch.no_grad():  # Disable gradient calculation for testing\n",
    "        for data, target in test_loader:\n",
    "            # Move data and target labels to the appropriate device\n",
    "            data, target = data.to(device), target.to(device)\n",
    "            \n",
    "            # Forward pass: compute the model output\n",
    "            output = model(data)\n",
    "            \n",
    "            # Compute the loss (sum up batch loss)\n",
    "            test_loss += criterion(output, target).item()\n",
    "            \n",
    "            # Get the index of the max log-probability (predicted label)\n",
    "            pred = output.argmax(dim=1, keepdim=True)\n",
    "            \n",
    "            # Count correct predictions\n",
    "            correct += pred.eq(target.view_as(pred)).sum().item()\n",
    "    \n",
    "    # Compute average test loss and accuracy\n",
    "    test_loss /= len(test_loader.dataset)\n",
    "    accuracy = 100. * correct / len(test_loader.dataset)\n",
    "    \n",
    "    # Print test results\n",
    "    print(f'Test set: Average loss: {test_loss:.4f}, Accuracy: {correct}/{len(test_loader.dataset)} ({accuracy:.2f}%)\\n')\n"
   ]
  },
  {
   "cell_type": "code",
   "execution_count": null,
   "metadata": {},
   "outputs": [],
   "source": [
    "for epoch in range(1, 11):\n",
    "    train(model, device, train_loader, optimizer, epoch)\n",
    "    test(model, device, test_loader)"
   ]
  }
 ],
 "metadata": {
  "kernelspec": {
   "display_name": "venv",
   "language": "python",
   "name": "python3"
  },
  "language_info": {
   "name": "python",
   "version": "3.11.1"
  }
 },
 "nbformat": 4,
 "nbformat_minor": 2
}
